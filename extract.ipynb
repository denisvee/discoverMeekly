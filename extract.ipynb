{
 "cells": [
  {
   "cell_type": "code",
   "execution_count": 3,
   "metadata": {},
   "outputs": [],
   "source": [
    "import spotipy\n",
    "import spotipy.util as util"
   ]
  },
  {
   "cell_type": "code",
   "execution_count": 4,
   "metadata": {},
   "outputs": [],
   "source": [
    "scope = 'user-library-read'\n",
    "username = \"Denis Vashchenko\"\n",
    "ids = []"
   ]
  },
  {
   "cell_type": "code",
   "execution_count": 5,
   "metadata": {},
   "outputs": [
    {
     "name": "stdout",
     "output_type": "stream",
     "text": [
      "\n",
      "\n",
      "            User authentication requires interaction with your\n",
      "            web browser. Once you enter your credentials and\n",
      "            give authorization, you will be redirected to\n",
      "            a url.  Paste that url you were directed to to\n",
      "            complete the authorization.\n",
      "\n",
      "        \n",
      "Opened https://accounts.spotify.com/authorize?client_id=0b61cd01152b488e85ba30505d2e95b0&response_type=code&redirect_uri=https%3A%2F%2Fdenisvashchenko.com%2F&scope=user-library-read in your browser\n",
      "\n",
      "\n",
      "Enter the URL you were redirected to: https://denisvashchenko.com/?code=AQAgkbllvLodESFpwSgkE_k99nO6d9ez5XCl8uAjxBjvWhQw2AhxCo7B80AJoR6SMqlp973f52KR-7_6Aim4-YAlqEA_NttJ1vpiZrLGUfcw1QR5-opawzLSlu1ENzZgredtP1RC0a_cIs19z7mbsjjuj3E0PhaZ5D6545nMLzKHDn80nMMZZEwnTkBsJDfi9dkQ6j7CesVNT0sb2XF5LmrT89QC\n",
      "\n",
      "\n"
     ]
    }
   ],
   "source": [
    "token = util.prompt_for_user_token(username, scope)"
   ]
  },
  {
   "cell_type": "code",
   "execution_count": 6,
   "metadata": {},
   "outputs": [
    {
     "name": "stdout",
     "output_type": "stream",
     "text": [
      "Intoxicated - Vxder\n",
      "Alone (feat. BJRNCK) - HappyBirthdayCalvin\n",
      "OMG WOW - Paris Paige\n",
      "enough - 916frosty\n",
      "Learn How to Use It - Kyddiekafka\n",
      "На лету - V $ X V PRiNCE\n",
      "Crash - Spooky Boi\n",
      "A W O L - Doyle Perez\n",
      "Labyrinth - Devilish Trio\n",
      "Back Then - Alexander Lewis\n",
      "Higher - Sonny Digital\n",
      "Come Through - Oscarr\n",
      "Phantasy Star Online - Deko\n",
      "Dreams of You - Brennan Savage\n",
      "Midsummer Madness - 88rising\n",
      "Не помню - T-Fest\n",
      "I Like - Burgos\n",
      "Angeldust - ✦ pink cig ✦\n",
      "Pink Lemonade - maxtaylor♚\n",
      "Stuart - maxime.\n",
      "Veldt - brakence\n",
      "In the Night - Gxx\n",
      "Save Me Now - Vory\n",
      "Louis (feat. Jesse) - Take A Daytrip\n",
      "Falling Down - Honors\n",
      "27 - Feduk\n",
      "Feelings On Drugs - Franniethefirst\n",
      "Word to the Wise - Matt Corman\n",
      "Puerto Rican (feat. Patches) - ROLE MODEL\n",
      "Told Ya - WHIPPED CREAM\n",
      "['0aFL1qhMRuC7mvKaeYds9P', '21GwiS6kowfMupwxA5nibr', '6YzCRaCp5CQiHzthyupeBF', '3jnbd5B8VdKIXXySIBciuF', '5xigu0nuVYX3LYtmNnI8NH', '4hT7BPLIAsZ2rLkG9CpKrH', '1ru536zYo2Qa0WeX7LYj4e', '2C722TdzWRJNZGj0fOwShb', '0WUkVb4Sz7Zau5ulWuFjAB', '0RhGWsD4mLvKRBn7X8dYWl', '43lU43diOeQqizps3dMsFz', '7GnBXhMPbQ2SoIbW912cfa', '7CrV84rfYP3wS4l5NQc4uL', '2OoB6AHLHuLxhkNHrUH7lD', '6TodWdTSDfzwgYynTZSvJn', '05Trv7sPMbiP2TNOuXWDFI', '47qwNqHieDUsTDCHoP9fJk', '2mj8hvQAp5RCi0K6SXe7YZ', '5A2tyqspep8TgA5xEkDsue', '7aihGcUdbSWUrUd7EAb4wp', '4duJO4EyXNxj8hsEhjOfeC', '6wQ5tgiGoLhFIW5vsJy19G', '7mWO4OfLGrElqWC4e0Ym5G', '45w7B0Cv6FNfMZZKwdwb2j', '3HuLn6B17cpqjwMFRN3kHA', '1SccjD8RvJ6vegZLFdgy5a', '3MGaWjqpeywbTLSGONJNtO', '2dFz5ravSFl9FL82ujab6y', '0tjRCx5b9A0ZEU35HQ8UWS', '3INJvYa4XyBAm62TPNwSa8']\n"
     ]
    }
   ],
   "source": [
    "if token:\n",
    "    sp = spotipy.Spotify(auth=token)\n",
    "    results = sp.user_playlist_tracks(user=username,playlist_id=\"spotify:playlist:37i9dQZEVXcCPpnWhFUkrg\")\n",
    "    for item in results['items']:\n",
    "        track = item['track']\n",
    "        print (track['name'] + ' - ' + track['artists'][0]['name'])\n",
    "        ids.append(track['id'])\n",
    "    print(ids)\n",
    "else:\n",
    "    print(\"Can't get token for\", username)\n",
    "\n",
    "# results = sp.audio_features(ids)\n",
    "# print(results)"
   ]
  }
 ],
 "metadata": {
  "kernelspec": {
   "display_name": "Python 3",
   "language": "python",
   "name": "python3"
  },
  "language_info": {
   "codemirror_mode": {
    "name": "ipython",
    "version": 3
   },
   "file_extension": ".py",
   "mimetype": "text/x-python",
   "name": "python",
   "nbconvert_exporter": "python",
   "pygments_lexer": "ipython3",
   "version": "3.7.5"
  }
 },
 "nbformat": 4,
 "nbformat_minor": 2
}
